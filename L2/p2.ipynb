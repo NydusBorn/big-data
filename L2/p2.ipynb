{
 "cells": [
  {
   "cell_type": "code",
   "id": "initial_id",
   "metadata": {
    "collapsed": true
   },
   "source": [
    "import polars as pl\n",
    "import pandas as pd\n",
    "import plotly.express as px\n",
    "import seaborn as sns\n",
    "import sklearn\n",
    "import numpy as np\n",
    "import gradient_descent"
   ],
   "outputs": [],
   "execution_count": null
  },
  {
   "metadata": {},
   "cell_type": "code",
   "source": [
    "def get_numerical(df: pl.DataFrame, col_name: str):\n",
    "    stats = {\"dispersion\": None, \"qwantile 0.1\": None, \"qwantile 0.9\": None, \"quartile 1\": None, \"quartile 3\": None}\n",
    "    stats[\"dispersion\"] = df[col_name].std() ** 2\n",
    "    stats[\"qwantile 0.1\"] = df[col_name].quantile(0.1)\n",
    "    stats[\"qwantile 0.9\"] = df[col_name].quantile(0.9)\n",
    "    stats[\"quartile 1\"] = df[col_name].quantile(0.25)\n",
    "    stats[\"quartile 3\"] = df[col_name].quantile(0.75)\n",
    "    return stats"
   ],
   "id": "1c41189fbc7cd87b",
   "outputs": [],
   "execution_count": null
  },
  {
   "metadata": {},
   "cell_type": "code",
   "source": [
    "pudt = pd.read_csv(\"train.csv\")\n",
    "pudt = pudt.drop([\"id\"], axis=1)\n",
    "pudt"
   ],
   "id": "3eb1597b2856bc52",
   "outputs": [],
   "execution_count": null
  },
  {
   "metadata": {},
   "cell_type": "code",
   "source": "get_numerical(pudt, \"Mean_Integrated\")",
   "id": "62f22f82d1c0fa7d",
   "outputs": [],
   "execution_count": null
  },
  {
   "metadata": {},
   "cell_type": "code",
   "source": "get_numerical(pudt, \"SD\")",
   "id": "1734dbdeee17c929",
   "outputs": [],
   "execution_count": null
  },
  {
   "metadata": {},
   "cell_type": "code",
   "source": "get_numerical(pudt, \"EK\")",
   "id": "97937cbf4e005afd",
   "outputs": [],
   "execution_count": null
  },
  {
   "metadata": {},
   "cell_type": "code",
   "source": "get_numerical(pudt, \"Skewness\")",
   "id": "dbcba5a41089ffbc",
   "outputs": [],
   "execution_count": null
  },
  {
   "metadata": {},
   "cell_type": "code",
   "source": "get_numerical(pudt, \"Mean_DMSNR_Curve\")",
   "id": "e0a27474e2ce100",
   "outputs": [],
   "execution_count": null
  },
  {
   "metadata": {},
   "cell_type": "code",
   "source": "get_numerical(pudt, \"SD_DMSNR_Curve\")",
   "id": "cebecad7f0a22628",
   "outputs": [],
   "execution_count": null
  },
  {
   "metadata": {},
   "cell_type": "code",
   "source": "get_numerical(pudt, \"EK_DMSNR_Curve\")",
   "id": "2ab9d3a3532956c7",
   "outputs": [],
   "execution_count": null
  },
  {
   "metadata": {},
   "cell_type": "code",
   "source": "get_numerical(pudt, \"Skewness_DMSNR_Curve\")",
   "id": "4e428d69ddffa2b1",
   "outputs": [],
   "execution_count": null
  },
  {
   "metadata": {},
   "cell_type": "code",
   "source": "get_numerical(pudt, \"Class\")",
   "id": "f3b336ef56ee1441",
   "outputs": [],
   "execution_count": null
  },
  {
   "metadata": {},
   "cell_type": "code",
   "source": "px.scatter(pudt, x=\"Mean_Integrated\", y=\"Skewness\", trendline=\"ols\")",
   "id": "67826b74ee0fb901",
   "outputs": [],
   "execution_count": null
  },
  {
   "metadata": {},
   "cell_type": "code",
   "source": "px.scatter(pudt, x=\"SD\", y=\"Skewness\", trendline=\"ols\")",
   "id": "4d666482a9ee1b3d",
   "outputs": [],
   "execution_count": null
  },
  {
   "metadata": {},
   "cell_type": "code",
   "source": [
    "pudl = pl.DataFrame(pudt).drop_nulls()\n",
    "pudl"
   ],
   "id": "4911a60405953cab",
   "outputs": [],
   "execution_count": null
  },
  {
   "metadata": {},
   "cell_type": "code",
   "source": [
    "corr_matrix = pudl.corr()\n",
    "fig = px.imshow(corr_matrix, text_auto=True, x=pudl.columns, y=pudl.columns)\n",
    "fig.update_layout(title=\"Correlation Matrix\", width=800, height=800)\n",
    "fig.show()"
   ],
   "id": "6f21da9a3245e58",
   "outputs": [],
   "execution_count": null
  },
  {
   "metadata": {},
   "cell_type": "code",
   "source": [
    "SGDLearner = sklearn.linear_model.SGDRegressor(max_iter=1_000_000, eta0=0.001, n_iter_no_change=10)\n",
    "x_vals = [[hs] for hs in pudl[\"SD\"]]\n",
    "model = SGDLearner.fit(x_vals, pudl[\"Skewness\"])"
   ],
   "id": "2f720a554cedb01f",
   "outputs": [],
   "execution_count": null
  },
  {
   "metadata": {},
   "cell_type": "code",
   "source": [
    "y_vals = model.predict(x_vals)\n",
    "px.scatter(pudl, x=\"SD\", y=\"Skewness\").add_scatter(x=np.array(x_vals).reshape(-1), y=y_vals, name=\"SGD Regression\")"
   ],
   "id": "740681d1c7938f2f",
   "outputs": [],
   "execution_count": null
  },
  {
   "metadata": {},
   "cell_type": "code",
   "source": [
    "tdl = pudl.sample(n=1000, seed=42)\n",
    "x = tdl[\"SD\"]\n",
    "y = tdl[\"Skewness\"]\n",
    "GDLearner = gradient_descent.descent(x, y, 500, 0.01)"
   ],
   "id": "27116075a0f83616",
   "outputs": [],
   "execution_count": null
  },
  {
   "metadata": {},
   "cell_type": "code",
   "source": [
    "space = np.linspace(min(pudl[\"SD\"]), max(pudl[\"SD\"]), 1000)\n",
    "px.scatter(pudl, x=\"SD\", y=\"Skewness\").add_scatter(x=space,\n",
    "                                                      y=gradient_descent.approx_fn(space, GDLearner[0], GDLearner[1]),\n",
    "                                                      name=\"GD Regression\")"
   ],
   "id": "96bf9d7d17258b0a",
   "outputs": [],
   "execution_count": null
  },
  {
   "metadata": {},
   "cell_type": "code",
   "source": "",
   "id": "51ddcaeb869c50fa",
   "outputs": [],
   "execution_count": null
  }
 ],
 "metadata": {
  "kernelspec": {
   "display_name": "Python 3",
   "language": "python",
   "name": "python3"
  },
  "language_info": {
   "codemirror_mode": {
    "name": "ipython",
    "version": 2
   },
   "file_extension": ".py",
   "mimetype": "text/x-python",
   "name": "python",
   "nbconvert_exporter": "python",
   "pygments_lexer": "ipython2",
   "version": "2.7.6"
  }
 },
 "nbformat": 4,
 "nbformat_minor": 5
}
