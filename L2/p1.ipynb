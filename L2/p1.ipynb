{
 "cells": [
  {
   "cell_type": "code",
   "id": "initial_id",
   "metadata": {
    "collapsed": true
   },
   "source": [
    "import polars as pl\n",
    "import plotly.express as px\n",
    "import seaborn as sns\n",
    "import sklearn\n",
    "import numpy as np\n",
    "import gradient_descent"
   ],
   "outputs": [],
   "execution_count": null
  },
  {
   "metadata": {},
   "cell_type": "code",
   "source": [
    "mpdt = sns.load_dataset(\"mpg\")\n",
    "mpdt"
   ],
   "id": "3eb1597b2856bc52",
   "outputs": [],
   "execution_count": null
  },
  {
   "metadata": {},
   "cell_type": "code",
   "source": [
    "def get_numerical(df: pl.DataFrame, col_name: str):\n",
    "    stats = {\"dispersion\": None, \"qwantile 0.1\": None, \"qwantile 0.9\": None, \"quartile 1\": None, \"quartile 3\": None}\n",
    "    stats[\"dispersion\"] = df[col_name].std() ** 2\n",
    "    stats[\"qwantile 0.1\"] = df[col_name].quantile(0.1)\n",
    "    stats[\"qwantile 0.9\"] = df[col_name].quantile(0.9)\n",
    "    stats[\"quartile 1\"] = df[col_name].quantile(0.25)\n",
    "    stats[\"quartile 3\"] = df[col_name].quantile(0.75)\n",
    "    return stats"
   ],
   "id": "e537b3b88b62c941",
   "outputs": [],
   "execution_count": null
  },
  {
   "metadata": {},
   "cell_type": "code",
   "source": "get_numerical(mpdt, \"mpg\")",
   "id": "5dad2bfca25efdda",
   "outputs": [],
   "execution_count": null
  },
  {
   "metadata": {},
   "cell_type": "code",
   "source": "get_numerical(mpdt, \"cylinders\")",
   "id": "ebaf32b784b32b10",
   "outputs": [],
   "execution_count": null
  },
  {
   "metadata": {},
   "cell_type": "code",
   "source": "get_numerical(mpdt, \"displacement\")",
   "id": "3b7a02c09052e8eb",
   "outputs": [],
   "execution_count": null
  },
  {
   "metadata": {},
   "cell_type": "code",
   "source": "get_numerical(mpdt, \"horsepower\")",
   "id": "95d63c110c52953e",
   "outputs": [],
   "execution_count": null
  },
  {
   "metadata": {},
   "cell_type": "code",
   "source": "get_numerical(mpdt, \"weight\")",
   "id": "8d71394a2ee5477d",
   "outputs": [],
   "execution_count": null
  },
  {
   "metadata": {},
   "cell_type": "code",
   "source": "get_numerical(mpdt, \"acceleration\")",
   "id": "d8f3a4ec82d005c9",
   "outputs": [],
   "execution_count": null
  },
  {
   "metadata": {},
   "cell_type": "code",
   "source": "get_numerical(mpdt, \"model_year\")",
   "id": "21938a2db78e2464",
   "outputs": [],
   "execution_count": null
  },
  {
   "metadata": {},
   "cell_type": "code",
   "source": "px.scatter(mpdt, x=\"model_year\", y=\"horsepower\", trendline=\"ols\")",
   "id": "fc0648d8d23782a7",
   "outputs": [],
   "execution_count": null
  },
  {
   "metadata": {},
   "cell_type": "code",
   "source": "px.scatter(mpdt, x=\"cylinders\", y=\"horsepower\", trendline=\"ols\")",
   "id": "e882030e3c5c28eb",
   "outputs": [],
   "execution_count": null
  },
  {
   "metadata": {},
   "cell_type": "code",
   "source": [
    "mpdl = pl.DataFrame(mpdt).with_columns(\n",
    "    pl.col(\"origin\").eq(\"europe\").cast(pl.UInt8).alias(\"europe\"),\n",
    "    pl.col(\"origin\").eq(\"usa\").cast(pl.UInt8).alias(\"usa\"),\n",
    "    pl.col(\"origin\").eq(\"japan\").cast(pl.UInt8).alias(\"japan\"),\n",
    ").drop(\"origin\").drop_nulls()\n",
    "mpdl"
   ],
   "id": "f9aacd0952138615",
   "outputs": [],
   "execution_count": null
  },
  {
   "metadata": {},
   "cell_type": "code",
   "source": [
    "corr_matrix = mpdl.select(pl.exclude(\"name\")).corr()\n",
    "fig = px.imshow(corr_matrix, text_auto=True, x=mpdl.select(pl.exclude(\"name\")).columns, y=mpdl.select(pl.exclude(\"name\")).columns)\n",
    "fig.update_layout(title=\"Correlation Matrix\", width=800, height=800)\n",
    "fig.show()"
   ],
   "id": "9ca726a34b9e930e",
   "outputs": [],
   "execution_count": null
  },
  {
   "metadata": {},
   "cell_type": "code",
   "source": [
    "SGDLearner = sklearn.linear_model.SGDRegressor(max_iter=1_000_000, eta0=0.001, n_iter_no_change=100_000)\n",
    "x_vals = [[hs] for hs in mpdl[\"horsepower\"]]\n",
    "model = SGDLearner.fit(x_vals, mpdl[\"mpg\"])"
   ],
   "id": "3eb0ef975f008f0a",
   "outputs": [],
   "execution_count": null
  },
  {
   "metadata": {},
   "cell_type": "code",
   "source": "y_vals = model.predict(x_vals)",
   "id": "5a8825a1e44a7d6",
   "outputs": [],
   "execution_count": null
  },
  {
   "metadata": {},
   "cell_type": "code",
   "source": "px.scatter(mpdl, x=\"horsepower\", y=\"mpg\").add_scatter(x=np.array(x_vals).reshape(-1), y=y_vals, name=\"SGD Regression\")",
   "id": "b6b8b41bc551dafb",
   "outputs": [],
   "execution_count": null
  },
  {
   "metadata": {},
   "cell_type": "code",
   "source": [
    "x = mpdl[\"horsepower\"]\n",
    "y = mpdl[\"mpg\"]\n",
    "GDLearner = gradient_descent.descent(x, y, 500, 0.01)"
   ],
   "id": "81b0a5958dbcb57b",
   "outputs": [],
   "execution_count": null
  },
  {
   "metadata": {},
   "cell_type": "code",
   "source": [
    "space = np.linspace(min(mpdl[\"horsepower\"]), max(mpdl[\"horsepower\"]), 1000)\n",
    "px.scatter(mpdl, x=\"horsepower\", y=\"mpg\").add_scatter(x=space, y=gradient_descent.approx_fn(space, GDLearner[0], GDLearner[1]), name=\"GD Regression\")"
   ],
   "id": "bdb08c6a306e40a8",
   "outputs": [],
   "execution_count": null
  },
  {
   "metadata": {},
   "cell_type": "code",
   "source": "",
   "id": "4c8527081a5ae311",
   "outputs": [],
   "execution_count": null
  }
 ],
 "metadata": {
  "kernelspec": {
   "display_name": "Python 3",
   "language": "python",
   "name": "python3"
  },
  "language_info": {
   "codemirror_mode": {
    "name": "ipython",
    "version": 2
   },
   "file_extension": ".py",
   "mimetype": "text/x-python",
   "name": "python",
   "nbconvert_exporter": "python",
   "pygments_lexer": "ipython2",
   "version": "2.7.6"
  }
 },
 "nbformat": 4,
 "nbformat_minor": 5
}
