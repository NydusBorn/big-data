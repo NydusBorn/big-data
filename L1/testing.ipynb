{
 "cells": [
  {
   "cell_type": "code",
   "id": "initial_id",
   "metadata": {
    "collapsed": true
   },
   "source": [
    "from copy import deepcopy\n",
    "\n",
    "import polars as pd\n",
    "import plotly.express as px\n",
    "import pw_mapping"
   ],
   "outputs": [],
   "execution_count": null
  },
  {
   "metadata": {},
   "cell_type": "code",
   "source": [
    "pages = pw_mapping.Page.select()\n",
    "df_pages = pd.DataFrame([{\"page_id\": page.page_id, \"title\": page.title, \"item_id\": page.item_id, \"views\": page.views} for page in pages])\n",
    "df_pages"
   ],
   "id": "ed448c542993a924",
   "outputs": [],
   "execution_count": null
  },
  {
   "metadata": {},
   "cell_type": "code",
   "source": [
    "t_df = df_pages.filter(df_pages[\"views\"] < 200)\n",
    "px.histogram(t_df, x=\"views\", nbins=200)"
   ],
   "id": "d47ff2b566dedfb",
   "outputs": [],
   "execution_count": null
  },
  {
   "metadata": {},
   "cell_type": "code",
   "source": [
    "cursor = pw_mapping.database.execute_sql(\"select item_id, count(item_id) from item_aliases group by item_id\")\n",
    "df_aliases = pd.DataFrame([{\"item_id\": alias[0], \"count\": alias[1]} for alias in cursor])"
   ],
   "id": "3c519abca9cc241e",
   "outputs": [],
   "execution_count": null
  },
  {
   "metadata": {},
   "cell_type": "code",
   "source": [
    "t_df = df_aliases.filter(df_aliases[\"count\"] < 80)\n",
    "px.histogram(t_df, x=\"count\", nbins=200)"
   ],
   "id": "e0c37723ceea258c",
   "outputs": [],
   "execution_count": null
  },
  {
   "metadata": {},
   "cell_type": "code",
   "source": [
    "cursor = pw_mapping.database.execute_sql(\"select source_item_id, count(source_item_id) from statements group by source_item_id limit 1000000\")\n",
    "df_sources = pd.DataFrame([{\"item_id\": source[0], \"count\": source[1]} for source in cursor])"
   ],
   "id": "837080c5e159ca04",
   "outputs": [],
   "execution_count": null
  },
  {
   "metadata": {},
   "cell_type": "code",
   "source": [
    "t_df = df_sources.filter(df_sources[\"count\"] < 250)\n",
    "px.histogram(t_df, x=\"count\", nbins=200)"
   ],
   "id": "c3da7c41d92eeca7",
   "outputs": [],
   "execution_count": null
  },
  {
   "metadata": {},
   "cell_type": "code",
   "source": [
    "cursor = pw_mapping.database.execute_sql(\n",
    "    \"select target_item_id, count(target_item_id) from statements group by target_item_id limit 1000000\")\n",
    "df_targets = pd.DataFrame([{\"item_id\": target[0], \"count\": target[1]} for target in cursor])"
   ],
   "id": "d2177f0bd934a6ba",
   "outputs": [],
   "execution_count": null
  },
  {
   "metadata": {},
   "cell_type": "code",
   "source": [
    "t_df = df_targets.filter(df_targets[\"count\"] < 250)\n",
    "px.histogram(t_df, x=\"count\", nbins=200)"
   ],
   "id": "fa3ce62c69f6c42c",
   "outputs": [],
   "execution_count": null
  },
  {
   "metadata": {},
   "cell_type": "code",
   "source": [
    "cursor = pw_mapping.database.execute_sql(\n",
    "    \"select edge_property_id, count(edge_property_id) from statements group by edge_property_id limit 1000000\")\n",
    "df_props = pd.DataFrame([{\"item_id\": prop[0], \"count\": prop[1]} for prop in cursor])"
   ],
   "id": "3b9f1fbd1d25a3cd",
   "outputs": [],
   "execution_count": null
  },
  {
   "metadata": {},
   "cell_type": "code",
   "source": [
    "t_df = df_props.filter(df_props[\"count\"] < 10000)\n",
    "px.histogram(t_df, x=\"count\", nbins=200)"
   ],
   "id": "5ef7fe0d80246c3",
   "outputs": [],
   "execution_count": null
  },
  {
   "metadata": {},
   "cell_type": "code",
   "source": [
    "df_joined = df_pages.join(df_aliases, on=\"item_id\", how=\"left\")\n",
    "df_joined = df_joined.drop_nulls()\n",
    "df_joined"
   ],
   "id": "51f4669f4d567f25",
   "outputs": [],
   "execution_count": null
  },
  {
   "metadata": {},
   "cell_type": "code",
   "source": [
    "t_df = df_joined.filter(df_joined[\"views\"] < 400)\n",
    "px.scatter(t_df, x=\"views\", y=\"count\")"
   ],
   "id": "9abd6987005f778c",
   "outputs": [],
   "execution_count": null
  },
  {
   "metadata": {},
   "cell_type": "code",
   "source": [
    "cursor = pw_mapping.database.execute_sql(\n",
    "    \"\"\"\n",
    "    SELECT\n",
    "  \"source\".\"edge_property_id\" AS \"edge_property_id\",\n",
    "  \"source\".\"count\" AS \"count\",\n",
    "  \"Property - Edge Property\".\"property_id\" AS \"Property - Edge Property__property_id\",\n",
    "  \"Property - Edge Property\".\"en_label\" AS \"Property - Edge Property__en_label\",\n",
    "  \"Property - Edge Property\".\"en_description\" AS \"Property - Edge Property__en_description\"\n",
    "FROM\n",
    "  (\n",
    "    SELECT\n",
    "      \"public\".\"statements\".\"edge_property_id\" AS \"edge_property_id\",\n",
    "      COUNT(*) AS \"count\"\n",
    "    FROM\n",
    "      \"public\".\"statements\"\n",
    "\n",
    "GROUP BY\n",
    "      \"public\".\"statements\".\"edge_property_id\"\n",
    "\n",
    "ORDER BY\n",
    "      \"public\".\"statements\".\"edge_property_id\" ASC\n",
    "  ) AS \"source\"\n",
    "\n",
    "LEFT JOIN \"public\".\"property\" AS \"Property - Edge Property\" ON \"source\".\"edge_property_id\" = \"Property - Edge Property\".\"property_id\"\n",
    "ORDER BY\n",
    "  \"source\".\"count\" DESC\n",
    "LIMIT\n",
    "  20\"\"\"\n",
    ")\n",
    "df_props = pd.DataFrame([{\"prop\": prop[0], \"count\": prop[1], \"label\": prop[3]} for prop in cursor])"
   ],
   "id": "134c8e11fd0db1e8",
   "outputs": [],
   "execution_count": null
  },
  {
   "metadata": {},
   "cell_type": "code",
   "source": [
    "cursor = pw_mapping.database.execute_sql(\n",
    "    \"\"\"SELECT\n",
    "  \"public\".\"page\".\"page_id\" AS \"page_id\",\n",
    "  \"public\".\"page\".\"item_id\" AS \"item_id\",\n",
    "  \"public\".\"page\".\"title\" AS \"title\",\n",
    "  \"public\".\"page\".\"views\" AS \"views\",\n",
    "  \"augmented statements - Item\".\"source_item_id\" AS \"augmented statements - Item__source_item_id\",\n",
    "  \"augmented statements - Item\".\"edge_property_id\" AS \"augmented statements - Item__edge_property_id\",\n",
    "  \"augmented statements - Item\".\"target_item_id\" AS \"augmented statements - Item__target_item_id\",\n",
    "  \"augmented statements - Item\".\"prop counts - Edge Property__edge_property_id\" AS \"augmented statements - Item__prop counts - Edge Pro_66e87521\",\n",
    "  \"augmented statements - Item\".\"prop counts - Edge Property__count\" AS \"augmented statements - Item__prop counts - Edge Pro_77fde572\",\n",
    "  \"augmented statements - Item\".\"prop counts - Edge Property__Property - Edge Proper_fdc36d11\" AS \"augmented statements - Item__prop counts - Edge Pro_06760e39\",\n",
    "  \"augmented statements - Item\".\"prop counts - Edge Property__Property - Edge Proper_e382230b\" AS \"augmented statements - Item__prop counts - Edge Pro_384a910a\"\n",
    "FROM\n",
    "  \"public\".\"page\"\n",
    "\n",
    "LEFT JOIN (\n",
    "    SELECT\n",
    "      \"public\".\"statements\".\"source_item_id\" AS \"source_item_id\",\n",
    "      \"public\".\"statements\".\"edge_property_id\" AS \"edge_property_id\",\n",
    "      \"public\".\"statements\".\"target_item_id\" AS \"target_item_id\",\n",
    "      \"prop counts - Edge Property\".\"edge_property_id\" AS \"prop counts - Edge Property__edge_property_id\",\n",
    "      \"prop counts - Edge Property\".\"count\" AS \"prop counts - Edge Property__count\",\n",
    "      \"prop counts - Edge Property\".\"Property - Edge Property__property_id\" AS \"prop counts - Edge Property__Property - Edge Proper_fdc36d11\",\n",
    "      \"prop counts - Edge Property\".\"Property - Edge Property__en_label\" AS \"prop counts - Edge Property__Property - Edge Proper_e382230b\"\n",
    "    FROM\n",
    "      \"public\".\"statements\"\n",
    "      LEFT JOIN (\n",
    "        SELECT\n",
    "          \"source\".\"edge_property_id\" AS \"edge_property_id\",\n",
    "          \"source\".\"count\" AS \"count\",\n",
    "          \"Property - Edge Property\".\"property_id\" AS \"Property - Edge Property__property_id\",\n",
    "          \"Property - Edge Property\".\"en_label\" AS \"Property - Edge Property__en_label\"\n",
    "        FROM\n",
    "          (\n",
    "            SELECT\n",
    "              \"public\".\"statements\".\"edge_property_id\" AS \"edge_property_id\",\n",
    "              COUNT(*) AS \"count\"\n",
    "            FROM\n",
    "              \"public\".\"statements\"\n",
    "\n",
    "GROUP BY\n",
    "              \"public\".\"statements\".\"edge_property_id\"\n",
    "\n",
    "ORDER BY\n",
    "              \"public\".\"statements\".\"edge_property_id\" ASC\n",
    "          ) AS \"source\"\n",
    "          LEFT JOIN \"public\".\"property\" AS \"Property - Edge Property\" ON \"source\".\"edge_property_id\" = \"Property - Edge Property\".\"property_id\"\n",
    "        ORDER BY\n",
    "          \"source\".\"count\" DESC\n",
    "\n",
    "LIMIT\n",
    "          20\n",
    "      ) AS \"prop counts - Edge Property\" ON \"public\".\"statements\".\"edge_property_id\" = \"prop counts - Edge Property\".\"Property - Edge Property__property_id\"\n",
    "  ) AS \"augmented statements - Item\" ON \"public\".\"page\".\"item_id\" = \"augmented statements - Item\".\"source_item_id\"\n",
    "\"\"\"\n",
    ")\n",
    "df_pages = pd.DataFrame([{\"page_id\": page[0], \"views\": page[3], \"item\": page[4]} for page in cursor])\n",
    "df_pages = df_pages.group_by(\"page_id\", \"views\", \"item\").all()\n",
    "t_df = df_pages.map_rows(lambda row: (row[0],row[1][0],row[2][0]))\n",
    "df_pages_sources = pd.DataFrame((t_df[\"column_0\"].alias(\"page_id\"), t_df[\"column_1\"].alias(\"views\"), t_df[\"column_2\"].alias(\"item\")))"
   ],
   "id": "f8e0ef25824aa2ce",
   "outputs": [],
   "execution_count": null
  },
  {
   "metadata": {},
   "cell_type": "code",
   "source": "",
   "id": "3eb1597b2856bc52",
   "outputs": [],
   "execution_count": null
  }
 ],
 "metadata": {
  "kernelspec": {
   "display_name": "Python 3",
   "language": "python",
   "name": "python3"
  },
  "language_info": {
   "codemirror_mode": {
    "name": "ipython",
    "version": 2
   },
   "file_extension": ".py",
   "mimetype": "text/x-python",
   "name": "python",
   "nbconvert_exporter": "python",
   "pygments_lexer": "ipython2",
   "version": "2.7.6"
  }
 },
 "nbformat": 4,
 "nbformat_minor": 5
}
