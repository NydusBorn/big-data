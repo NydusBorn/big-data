{
 "cells": [
  {
   "cell_type": "code",
   "id": "initial_id",
   "metadata": {
    "collapsed": true
   },
   "source": [
    "import polars as pd\n",
    "import plotly.express as px\n",
    "import pw_mapping"
   ],
   "outputs": [],
   "execution_count": null
  },
  {
   "metadata": {},
   "cell_type": "code",
   "source": [
    "pages = pw_mapping.Page.select()\n",
    "df_pages = pd.DataFrame([{\"page_id\": page.page_id, \"title\": page.title, \"item_id\": page.item_id, \"views\": page.views} for page in pages])\n",
    "df_pages"
   ],
   "id": "ed448c542993a924",
   "outputs": [],
   "execution_count": null
  },
  {
   "metadata": {},
   "cell_type": "code",
   "source": [
    "t_df = df_pages.filter(df_pages[\"views\"] < 200)\n",
    "px.histogram(t_df, x=\"views\", nbins=200)"
   ],
   "id": "d47ff2b566dedfb",
   "outputs": [],
   "execution_count": null
  },
  {
   "metadata": {},
   "cell_type": "code",
   "source": [
    "cursor = pw_mapping.database.execute_sql(\"select item_id, count(item_id) from item_aliases group by item_id\")\n",
    "df_aliases = pd.DataFrame([{\"item_id\": alias[0], \"count\": alias[1]} for alias in cursor])"
   ],
   "id": "3c519abca9cc241e",
   "outputs": [],
   "execution_count": null
  },
  {
   "metadata": {},
   "cell_type": "code",
   "source": [
    "t_df = df_aliases.filter(df_aliases[\"count\"] < 80)\n",
    "px.histogram(t_df, x=\"count\", nbins=200)"
   ],
   "id": "e0c37723ceea258c",
   "outputs": [],
   "execution_count": null
  },
  {
   "metadata": {},
   "cell_type": "code",
   "source": [
    "cursor = pw_mapping.database.execute_sql(\"select source_item_id, count(source_item_id) from statements group by source_item_id limit 1000000\")\n",
    "df_sources = pd.DataFrame([{\"item_id\": source[0], \"count\": source[1]} for source in cursor])"
   ],
   "id": "837080c5e159ca04",
   "outputs": [],
   "execution_count": null
  },
  {
   "metadata": {},
   "cell_type": "code",
   "source": [
    "t_df = df_sources.filter(df_sources[\"count\"] < 250)\n",
    "px.histogram(t_df, x=\"count\", nbins=200)"
   ],
   "id": "c3da7c41d92eeca7",
   "outputs": [],
   "execution_count": null
  },
  {
   "metadata": {},
   "cell_type": "code",
   "source": [
    "cursor = pw_mapping.database.execute_sql(\n",
    "    \"select target_item_id, count(target_item_id) from statements group by target_item_id limit 1000000\")\n",
    "df_targets = pd.DataFrame([{\"item_id\": target[0], \"count\": target[1]} for target in cursor])"
   ],
   "id": "d2177f0bd934a6ba",
   "outputs": [],
   "execution_count": null
  },
  {
   "metadata": {},
   "cell_type": "code",
   "source": [
    "t_df = df_targets.filter(df_targets[\"count\"] < 250)\n",
    "px.histogram(t_df, x=\"count\", nbins=200)"
   ],
   "id": "fa3ce62c69f6c42c",
   "outputs": [],
   "execution_count": null
  },
  {
   "metadata": {},
   "cell_type": "code",
   "source": [
    "cursor = pw_mapping.database.execute_sql(\n",
    "    \"select edge_property_id, count(edge_property_id) from statements group by edge_property_id limit 1000000\")\n",
    "df_props = pd.DataFrame([{\"item_id\": prop[0], \"count\": prop[1]} for prop in cursor])"
   ],
   "id": "3b9f1fbd1d25a3cd",
   "outputs": [],
   "execution_count": null
  },
  {
   "metadata": {},
   "cell_type": "code",
   "source": [
    "t_df = df_props.filter(df_props[\"count\"] < 10000)\n",
    "px.histogram(t_df, x=\"count\", nbins=200)"
   ],
   "id": "5ef7fe0d80246c3",
   "outputs": [],
   "execution_count": null
  },
  {
   "metadata": {},
   "cell_type": "code",
   "source": [
    "df_joined = df_pages.join(df_aliases, on=\"item_id\", how=\"left\")\n",
    "df_joined = df_joined.drop_nulls()\n",
    "df_joined"
   ],
   "id": "51f4669f4d567f25",
   "outputs": [],
   "execution_count": null
  },
  {
   "metadata": {},
   "cell_type": "code",
   "source": [
    "t_df = df_joined.filter(df_joined[\"views\"] < 400)\n",
    "px.scatter(t_df, x=\"views\", y=\"count\")"
   ],
   "id": "9abd6987005f778c",
   "outputs": [],
   "execution_count": null
  }
 ],
 "metadata": {
  "kernelspec": {
   "display_name": "Python 3",
   "language": "python",
   "name": "python3"
  },
  "language_info": {
   "codemirror_mode": {
    "name": "ipython",
    "version": 2
   },
   "file_extension": ".py",
   "mimetype": "text/x-python",
   "name": "python",
   "nbconvert_exporter": "python",
   "pygments_lexer": "ipython2",
   "version": "2.7.6"
  }
 },
 "nbformat": 4,
 "nbformat_minor": 5
}
